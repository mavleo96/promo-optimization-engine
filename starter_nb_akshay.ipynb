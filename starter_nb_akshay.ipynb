{
 "cells": [
  {
   "cell_type": "code",
   "execution_count": null,
   "metadata": {},
   "outputs": [],
   "source": [
    "# !pip install azure-storage-blob\n",
    "# !pip install python-dotenv\n",
    "\n",
    "import os\n",
    "from dotenv import load_dotenv\n",
    "from setup_utils import fetch_data, load_data, create_time_index\n",
    "import pandas as pd\n",
    "import numpy as np\n",
    "\n",
    "CONNECTION_STRING = os.getenv(\"CONNECTION_STRING\")\n",
    "\n",
    "load_dotenv()\n",
    "fetch_data(CONNECTION_STRING)\n",
    "\n",
    "(\n",
    "    brand_mapping,\n",
    "    macro_data,\n",
    "    brand_constraint,\n",
    "    pack_constraint,\n",
    "    segment_constraint,\n",
    "    sales_data,\n",
    "    volume_variation_constraint,\n",
    ") = load_data()\n",
    "\n",
    "\n",
    "(\n",
    "    macro_data,\n",
    "    sales_data,\n",
    ") = create_time_index([macro_data, sales_data])\n"
   ]
  },
  {
   "cell_type": "code",
   "execution_count": null,
   "metadata": {},
   "outputs": [],
   "source": [
    "pd.set_option(\"display.max_rows\", 500)\n",
    "pd.set_option(\"display.max_columns\", 500)"
   ]
  },
  {
   "cell_type": "code",
   "execution_count": null,
   "metadata": {},
   "outputs": [],
   "source": [
    "# target_sku_list = sales_data[sales_data.gto.isna()].sku.unique()\n",
    "# target_brand_list = sales_data[sales_data.gto.isna()][[\"sku\", \"brand\"]].brand.unique()\n",
    "\n",
    "# k = sales_data[[\"sku\", \"brand\"]].drop_duplicates().groupby(\"sku\").apply(lambda x: set(x.brand.unique()))#[target_sku_list]\n",
    "# k2 = sales_data[[\"sku\", \"brand\"]].drop_duplicates().groupby(\"sku\").apply(lambda x: x.brand.nunique()>1)\n",
    "\n",
    "# issue_skus = k[k2].drop_duplicates().to_list()\n",
    "\n",
    "# brand_date_range = sales_data.fillna(0).reset_index().groupby(\"brand\").apply(lambda x: pd.Series([x.date.min(), x.date.max()], index=[\"min\", \"max\"]))\n",
    "# brand_date_range = brand_date_range.to_dict()"
   ]
  },
  {
   "cell_type": "code",
   "execution_count": null,
   "metadata": {},
   "outputs": [],
   "source": [
    "df = sales_data.reset_index().groupby([\"date\"])[[\"volume\", \"net_revenue\", \"promotional_discount\", \"other_discounts\"]].sum().sort_index().join(macro_data)\n",
    "k = df.net_revenue.shift(1)\n",
    "k.name = \"shifted_nr\"\n",
    "df = df.join(k).fillna(method=\"bfill\")"
   ]
  }
 ],
 "metadata": {
  "kernelspec": {
   "display_name": "base",
   "language": "python",
   "name": "python3"
  },
  "language_info": {
   "codemirror_mode": {
    "name": "ipython",
    "version": 3
   },
   "file_extension": ".py",
   "mimetype": "text/x-python",
   "name": "python",
   "nbconvert_exporter": "python",
   "pygments_lexer": "ipython3",
   "version": "3.9.6"
  },
  "orig_nbformat": 4
 },
 "nbformat": 4,
 "nbformat_minor": 2
}
