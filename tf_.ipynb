{
 "cells": [
  {
   "cell_type": "code",
   "execution_count": null,
   "metadata": {},
   "outputs": [],
   "source": [
    "# import tensorflow as tf\n",
    "# tf.compat.v1.disable_eager_execution()\n",
    "\n",
    "# # Define your data as TensorFlow constants\n",
    "# x = tf.constant([[1.0, 2.0, 3.0, 4.0, 5.0],[1.0, 2.0, 3.0, 4.0, 5.0]], dtype=tf.float32)\n",
    "# c = tf.constant(3.0, dtype=tf.float32)  # Constant 'c'\n",
    "# y = tf.constant([[5.0, 7.0, 9.0, 11.0, 13.0],[5.0, 7.0, 9.0, 11.0, 13.0]], dtype=tf.float32)  # Corresponding 'y' values\n",
    "\n",
    "# # Create a variable for 'm' and initialize it to a non-zero value\n",
    "# m = tf.Variable([[1.0], [1.0]], dtype=tf.float32, name='slope')\n",
    "\n",
    "# # Define the predicted values using the formula y = mx + c\n",
    "# y_pred = tf.multiply(m, x) + c\n",
    "\n",
    "# # Calculate the squared error\n",
    "# error = tf.reduce_sum(tf.square(y - y_pred))\n",
    "\n",
    "# # Define the optimizer (e.g., GradientDescentOptimizer) with a smaller learning rate\n",
    "# optimizer = tf.compat.v1.train.GradientDescentOptimizer(learning_rate=0.001)\n",
    "\n",
    "# # Define the training operation to minimize the error\n",
    "# train_op = optimizer.minimize(error)\n",
    "\n",
    "# # Create a session and initialize variables\n",
    "# with tf.compat.v1.Session() as sess:\n",
    "#     sess.run(tf.compat.v1.global_variables_initializer())\n",
    "\n",
    "#     # Training loop\n",
    "#     num_epochs = 1000\n",
    "#     for epoch in range(num_epochs):\n",
    "#         _, current_error, current_m = sess.run([train_op, error, m])\n",
    "#         if (epoch + 1) % 10 == 0:\n",
    "#            print(f\"Epoch {epoch + 1}/{num_epochs}, Error: {current_error.mean():.4f}, m: {current_m.mean():.4f}\")\n",
    "\n",
    "#     # Print the final result for 'm'\n",
    "#     final_m = sess.run(m)\n",
    "#     # print(f\"Final 'm' value: {final_m[0]} {final_m[1]:.4f}\")\n"
   ]
  },
  {
   "cell_type": "code",
   "execution_count": null,
   "metadata": {},
   "outputs": [],
   "source": [
    "# import tensorflow as tf\n",
    "\n",
    "# # Create placeholders for 'x' and 'y'\n",
    "# x = tf.compat.v1.placeholder(tf.float32, shape=[None])\n",
    "# y = tf.compat.v1.placeholder(tf.float32, shape=[None])\n",
    "\n",
    "# # Create variables for 'm' and 'c' and initialize them with small values\n",
    "# m = tf.Variable(0.1, dtype=tf.float32, name='slope')\n",
    "# c = tf.Variable(0.1, dtype=tf.float32, name='intercept')\n",
    "\n",
    "# # Define the predicted values using the formula y = mx + c\n",
    "# y_pred = tf.multiply(m, x) + c\n",
    "\n",
    "# # Calculate the squared error\n",
    "# error = tf.reduce_mean(tf.square(y - y_pred))\n",
    "\n",
    "# # Define the optimizer with a smaller learning rate\n",
    "# optimizer = tf.compat.v1.train.AdamOptimizer(learning_rate=0.1)\n",
    "\n",
    "# # Define the training operation to minimize the error\n",
    "# train_op = optimizer.minimize(error)\n",
    "\n",
    "# # Create a session and initialize variables\n",
    "# with tf.compat.v1.Session() as sess:\n",
    "#     sess.run(tf.compat.v1.global_variables_initializer())\n",
    "\n",
    "#     # Training data\n",
    "#     x_data = [1.0, 2.0, 3.0, 4.0, 5.0]\n",
    "#     y_data = [5.0, 7.0, 9.0, 11.0, 13.0]\n",
    "\n",
    "#     # Training loop\n",
    "#     num_epochs = 1000\n",
    "#     for epoch in range(num_epochs):\n",
    "#         _, current_error, current_m, current_c = sess.run([train_op, error, m, c], feed_dict={x: x_data, y: y_data})\n",
    "#         if (epoch + 1) % 100 == 0:\n",
    "#             print(f\"Epoch {epoch + 1}/{num_epochs}, Error: {current_error:.4f}, m: {current_m:.4f}, c: {current_c:.4f}\")\n",
    "\n",
    "#     # Print the final results for 'm' and 'c'\n",
    "#     final_m, final_c = sess.run([m, c])\n",
    "#     print(f\"Final 'm' value: {final_m:.4f}\")\n",
    "\n",
    "#     print(f\"Final 'c' value: {final_c:.4f}\")\n"
   ]
  },
  {
   "cell_type": "code",
   "execution_count": null,
   "metadata": {},
   "outputs": [],
   "source": [
    "import tensorflow as tf"
   ]
  },
  {
   "cell_type": "code",
   "execution_count": null,
   "metadata": {},
   "outputs": [],
   "source": [
    "tf.compat.v1.reset_default_graph()\n",
    "tf.compat.v1.enable_eager_execution()"
   ]
  },
  {
   "cell_type": "code",
   "execution_count": null,
   "metadata": {},
   "outputs": [],
   "source": [
    "tf.compat.v1.reset_default_graph()\n",
    "tf.compat.v1.disable_eager_execution()\n",
    "sess = tf.compat.v1.Session()\n"
   ]
  },
  {
   "cell_type": "code",
   "execution_count": null,
   "metadata": {},
   "outputs": [],
   "source": [
    "x = tf.constant([[1,2],[2,3],[3,4],[5,6]], dtype=tf.float64)\n",
    "# c = tf.constant([[1],[2],[3],[4]], dtype=tf.float64)\n",
    "y = tf.constant([[5,6],[7,8],[9,10],[11,12]], dtype=tf.float64)\n",
    "\n",
    "m1 = tf.Variable([[1]], dtype=tf.float64, name='global_slope')\n",
    "m2 = tf.Variable([[1,1]], dtype=tf.float64, name='hier_slope')\n",
    "c = tf.Variable([[1,1]], dtype=tf.float64, name='hier_intercept')\n",
    "# c = tf.Variable([[1]], dtype=tf.float64, name='hier_intercept')\n",
    "\n",
    "# slope = m1 + m2\n",
    "\n",
    "\n",
    "@tf.function\n",
    "def model(x_in, m1_in, m2_in, c_in):\n",
    "\n",
    "    slope = m1_in + m2_in\n",
    "    y_pred_out = tf.multiply(slope, x_in) + c_in\n",
    "\n",
    "    return y_pred_out\n",
    "\n",
    "y_pred = model(x, m1, m2, c)\n",
    "\n",
    "mse_error = tf.reduce_sum(tf.square(y-y_pred))\n",
    "reg = tf.reduce_sum(tf.square(m2)) + tf.reduce_sum(tf.square(m1))\n",
    "\n",
    "error = mse_error + reg\n",
    "\n",
    "optimizer = tf.compat.v1.train.AdamOptimizer(learning_rate=0.1)#, momentum=0.9)\n",
    "train_op = optimizer.minimize(error)"
   ]
  },
  {
   "cell_type": "code",
   "execution_count": null,
   "metadata": {},
   "outputs": [],
   "source": [
    "x_var = tf.Variable(x, dtype=tf.float64)\n",
    "\n",
    "y_opt = model(x_var, m1, m2, c)\n",
    "\n",
    "increase = -tf.reduce_sum(y_opt-y) + 1e2*tf.math.square(tf.reduce_sum(x_var)-tf.reduce_sum(x))"
   ]
  },
  {
   "cell_type": "code",
   "execution_count": null,
   "metadata": {},
   "outputs": [],
   "source": [
    "optimizer2 = tf.compat.v1.train.AdamOptimizer(learning_rate=0.1)#, momentum=0.9)\n",
    "train_op2 = optimizer.minimize(increase, var_list=[x_var])"
   ]
  },
  {
   "cell_type": "code",
   "execution_count": null,
   "metadata": {},
   "outputs": [],
   "source": [
    "sess.run(tf.compat.v1.global_variables_initializer())\n",
    "\n",
    "# Training loop\n",
    "num_epochs = 500\n",
    "for epoch in range(num_epochs):\n",
    "    _, current_error, cuurent_mse, current_m1, current_m2, current_c = sess.run([train_op, error, mse_error, m1, m2, c])\n",
    "    if (epoch + 1) % 25 == 0:\n",
    "        print(f\"Epoch {epoch + 1}/{num_epochs}, Error: {current_error:.4f}, MSE: {cuurent_mse:.4f}, m1: {current_m1}, m2: {current_m2}, c: {current_c}\")\n",
    "\n",
    "# Print the final results for 'm' and 'c'\n",
    "final_m1, final_m2, final_c = sess.run([m1, m2, c])\n",
    "print(f\"Final 'm1' value: {final_m1}\")\n",
    "\n",
    "print(f\"Final 'm2' value: {final_m2}\")\n",
    "print(f\"Final 'c' value: {final_c}\")"
   ]
  },
  {
   "cell_type": "code",
   "execution_count": null,
   "metadata": {},
   "outputs": [],
   "source": [
    "num_epochs = 500\n",
    "for epoch in range(num_epochs):\n",
    "    _, current_increase = sess.run([train_op2, increase])\n",
    "    if (epoch + 1) % 25 == 0:\n",
    "        print(f\"Epoch {epoch + 1}/{num_epochs}, Error: {current_increase:.4f}\")\n",
    "\n",
    "# Print the final results for 'm' and 'c'\n",
    "final_x, final_x_var = sess.run([x, x_var])\n",
    "print(f\"Final 'x' value: {final_x}\")\n",
    "print(f\"Final 'x_var' value: {final_x_var}\")\n"
   ]
  },
  {
   "cell_type": "code",
   "execution_count": null,
   "metadata": {},
   "outputs": [],
   "source": [
    "sess.run(tf.reduce_sum(x_var)), sess.run(tf.reduce_sum(x))"
   ]
  },
  {
   "cell_type": "code",
   "execution_count": null,
   "metadata": {},
   "outputs": [],
   "source": [
    "# Print the final results for 'm' and 'c'\n",
    "final_m1, final_m2, final_c = sess.run([m1, m2, c])\n",
    "print(f\"Final 'm1' value: {final_m1}\")\n",
    "\n",
    "print(f\"Final 'm2' value: {final_m2}\")\n",
    "print(f\"Final 'c' value: {final_c}\")"
   ]
  },
  {
   "cell_type": "code",
   "execution_count": null,
   "metadata": {},
   "outputs": [],
   "source": []
  }
 ],
 "metadata": {
  "kernelspec": {
   "display_name": "base",
   "language": "python",
   "name": "python3"
  },
  "language_info": {
   "codemirror_mode": {
    "name": "ipython",
    "version": 3
   },
   "file_extension": ".py",
   "mimetype": "text/x-python",
   "name": "python",
   "nbconvert_exporter": "python",
   "pygments_lexer": "ipython3",
   "version": "3.9.6"
  },
  "orig_nbformat": 4
 },
 "nbformat": 4,
 "nbformat_minor": 2
}
