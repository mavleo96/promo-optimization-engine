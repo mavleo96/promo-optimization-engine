{
 "cells": [
  {
   "cell_type": "code",
   "execution_count": 1,
   "metadata": {},
   "outputs": [],
   "source": [
    "# import tensorflow as tf\n",
    "# tf.compat.v1.disable_eager_execution()\n",
    "\n",
    "# # Define your data as TensorFlow constants\n",
    "# x = tf.constant([[1.0, 2.0, 3.0, 4.0, 5.0],[1.0, 2.0, 3.0, 4.0, 5.0]], dtype=tf.float32)\n",
    "# c = tf.constant(3.0, dtype=tf.float32)  # Constant 'c'\n",
    "# y = tf.constant([[5.0, 7.0, 9.0, 11.0, 13.0],[5.0, 7.0, 9.0, 11.0, 13.0]], dtype=tf.float32)  # Corresponding 'y' values\n",
    "\n",
    "# # Create a variable for 'm' and initialize it to a non-zero value\n",
    "# m = tf.Variable([[1.0], [1.0]], dtype=tf.float32, name='slope')\n",
    "\n",
    "# # Define the predicted values using the formula y = mx + c\n",
    "# y_pred = tf.multiply(m, x) + c\n",
    "\n",
    "# # Calculate the squared error\n",
    "# error = tf.reduce_sum(tf.square(y - y_pred))\n",
    "\n",
    "# # Define the optimizer (e.g., GradientDescentOptimizer) with a smaller learning rate\n",
    "# optimizer = tf.compat.v1.train.GradientDescentOptimizer(learning_rate=0.001)\n",
    "\n",
    "# # Define the training operation to minimize the error\n",
    "# train_op = optimizer.minimize(error)\n",
    "\n",
    "# # Create a session and initialize variables\n",
    "# with tf.compat.v1.Session() as sess:\n",
    "#     sess.run(tf.compat.v1.global_variables_initializer())\n",
    "\n",
    "#     # Training loop\n",
    "#     num_epochs = 1000\n",
    "#     for epoch in range(num_epochs):\n",
    "#         _, current_error, current_m = sess.run([train_op, error, m])\n",
    "#         if (epoch + 1) % 10 == 0:\n",
    "#            print(f\"Epoch {epoch + 1}/{num_epochs}, Error: {current_error.mean():.4f}, m: {current_m.mean():.4f}\")\n",
    "\n",
    "#     # Print the final result for 'm'\n",
    "#     final_m = sess.run(m)\n",
    "#     # print(f\"Final 'm' value: {final_m[0]} {final_m[1]:.4f}\")\n"
   ]
  },
  {
   "cell_type": "code",
   "execution_count": 2,
   "metadata": {},
   "outputs": [],
   "source": [
    "# import tensorflow as tf\n",
    "\n",
    "# # Create placeholders for 'x' and 'y'\n",
    "# x = tf.compat.v1.placeholder(tf.float32, shape=[None])\n",
    "# y = tf.compat.v1.placeholder(tf.float32, shape=[None])\n",
    "\n",
    "# # Create variables for 'm' and 'c' and initialize them with small values\n",
    "# m = tf.Variable(0.1, dtype=tf.float32, name='slope')\n",
    "# c = tf.Variable(0.1, dtype=tf.float32, name='intercept')\n",
    "\n",
    "# # Define the predicted values using the formula y = mx + c\n",
    "# y_pred = tf.multiply(m, x) + c\n",
    "\n",
    "# # Calculate the squared error\n",
    "# error = tf.reduce_mean(tf.square(y - y_pred))\n",
    "\n",
    "# # Define the optimizer with a smaller learning rate\n",
    "# optimizer = tf.compat.v1.train.AdamOptimizer(learning_rate=0.1)\n",
    "\n",
    "# # Define the training operation to minimize the error\n",
    "# train_op = optimizer.minimize(error)\n",
    "\n",
    "# # Create a session and initialize variables\n",
    "# with tf.compat.v1.Session() as sess:\n",
    "#     sess.run(tf.compat.v1.global_variables_initializer())\n",
    "\n",
    "#     # Training data\n",
    "#     x_data = [1.0, 2.0, 3.0, 4.0, 5.0]\n",
    "#     y_data = [5.0, 7.0, 9.0, 11.0, 13.0]\n",
    "\n",
    "#     # Training loop\n",
    "#     num_epochs = 1000\n",
    "#     for epoch in range(num_epochs):\n",
    "#         _, current_error, current_m, current_c = sess.run([train_op, error, m, c], feed_dict={x: x_data, y: y_data})\n",
    "#         if (epoch + 1) % 100 == 0:\n",
    "#             print(f\"Epoch {epoch + 1}/{num_epochs}, Error: {current_error:.4f}, m: {current_m:.4f}, c: {current_c:.4f}\")\n",
    "\n",
    "#     # Print the final results for 'm' and 'c'\n",
    "#     final_m, final_c = sess.run([m, c])\n",
    "#     print(f\"Final 'm' value: {final_m:.4f}\")\n",
    "\n",
    "#     print(f\"Final 'c' value: {final_c:.4f}\")\n"
   ]
  },
  {
   "cell_type": "code",
   "execution_count": 87,
   "metadata": {},
   "outputs": [],
   "source": [
    "import tensorflow as tf"
   ]
  },
  {
   "cell_type": "code",
   "execution_count": 100,
   "metadata": {},
   "outputs": [],
   "source": [
    "tf.compat.v1.disable_eager_execution()\n",
    "tf.compat.v1.reset_default_graph()\n",
    "sess = tf.compat.v1.Session()\n",
    "\n",
    "\n",
    "\n",
    "x = tf.constant([[1,2],[2,3],[3,4],[5,6]], dtype=tf.float64)\n",
    "# c = tf.constant([[1],[2],[3],[4]], dtype=tf.float64)\n",
    "y = tf.constant([[5,6],[7,8],[9,10],[11,12]], dtype=tf.float64)\n",
    "\n",
    "m1 = tf.Variable([[1]], dtype=tf.float64, name='global_slope')\n",
    "m2 = tf.Variable([[1,1]], dtype=tf.float64, name='hier_slope')\n",
    "c = tf.Variable([[1,1]], dtype=tf.float64, name='hier_intercept')\n",
    "# c = tf.Variable([[1]], dtype=tf.float64, name='hier_intercept')\n",
    "\n",
    "slope = m1 + m2\n",
    "\n",
    "y_pred = tf.multiply(slope, x) + c\n",
    "\n",
    "mse_error = tf.reduce_sum(tf.square(y-y_pred))\n",
    "reg = tf.reduce_sum(tf.square(m2)) + tf.reduce_sum(tf.square(m1))\n",
    "\n",
    "error = mse_error + reg\n",
    "\n",
    "optimizer = tf.compat.v1.train.FtrlOptimizer(learning_rate=0.1)#, momentum=0.9)\n",
    "train_op = optimizer.minimize(error)"
   ]
  },
  {
   "cell_type": "code",
   "execution_count": 101,
   "metadata": {},
   "outputs": [
    {
     "name": "stdout",
     "output_type": "stream",
     "text": [
      "Epoch 25/500, Error: 10.6588, MSE: 7.7716, m1: [[1.08491198]], m2: [[1.0321275  0.80304378]], c: [[1.62949278 1.64956785]]\n",
      "Epoch 50/500, Error: 8.4760, MSE: 5.8979, m1: [[1.0834478]], m2: [[0.93845537 0.72356565]], c: [[1.96333346 2.00033274]]\n",
      "Epoch 75/500, Error: 7.1116, MSE: 4.7398, m1: [[1.08433381]], m2: [[0.86742222 0.66604775]], c: [[2.21097614 2.24656318]]\n",
      "Epoch 100/500, Error: 6.1624, MSE: 3.9417, m1: [[1.08416859]], m2: [[0.81124071 0.62225837]], c: [[2.41047299 2.43785489]]\n",
      "Epoch 125/500, Error: 5.4659, MSE: 3.3617, m1: [[1.08239902]], m2: [[0.7658098  0.58826712]], c: [[2.57788043 2.59352289]]\n",
      "Epoch 150/500, Error: 4.9378, MSE: 2.9270, m1: [[1.07915281]], m2: [[0.72852395 0.56163223]], c: [[2.72181249 2.72358543]]\n",
      "Epoch 175/500, Error: 4.5285, MSE: 2.5946, m1: [[1.07473021]], m2: [[0.69757084 0.54066164]], c: [[2.84755019 2.83408687]]\n",
      "Epoch 200/500, Error: 4.2063, MSE: 2.3368, m1: [[1.06944854]], m2: [[0.67162525 0.52411597]], c: [[2.95862463 2.92904006]]\n",
      "Epoch 225/500, Error: 3.9497, MSE: 2.1352, m1: [[1.06359159]], m2: [[0.64968828 0.51105826]], c: [[3.05754671 3.01129192]]\n",
      "Epoch 250/500, Error: 3.7433, MSE: 1.9763, m1: [[1.05739575]], m2: [[0.63099202 0.50076615]], c: [[3.1461861  3.08296271]]\n",
      "Epoch 275/500, Error: 3.5762, MSE: 1.8506, m1: [[1.05104994]], m2: [[0.61493788 0.49267551]], c: [[3.2259859  3.14569063]]\n",
      "Epoch 300/500, Error: 3.4401, MSE: 1.7509, m1: [[1.04470056]], m2: [[0.6010545  0.48634177]], c: [[3.2980924  3.20077785]]\n",
      "Epoch 325/500, Error: 3.3287, MSE: 1.6717, m1: [[1.03845788]], m2: [[0.58896767 0.48141236]], c: [[3.3634376  3.24928274]]\n",
      "Epoch 350/500, Error: 3.2373, MSE: 1.6088, m1: [[1.03240244]], m2: [[0.57837831 0.4776063 ]], c: [[3.4227941  3.29208072]]\n",
      "Epoch 375/500, Error: 3.1619, MSE: 1.5589, m1: [[1.02659083]], m2: [[0.5690459  0.47469885]], c: [[3.47681267 3.32990607]]\n",
      "Epoch 400/500, Error: 3.0996, MSE: 1.5193, m1: [[1.02106064]], m2: [[0.56077595 0.47250974]], c: [[3.52604895 3.36338159]]\n",
      "Epoch 425/500, Error: 3.0481, MSE: 1.4881, m1: [[1.01583464]], m2: [[0.55341034 0.47089408]], c: [[3.57098273 3.39304018]]\n",
      "Epoch 450/500, Error: 3.0053, MSE: 1.4636, m1: [[1.01092421]], m2: [[0.54681975 0.46973522]], c: [[3.6120323  3.41934112]]\n",
      "Epoch 475/500, Error: 2.9697, MSE: 1.4445, m1: [[1.00633207]], m2: [[0.54089789 0.46893913]], c: [[3.64956531 3.44268251]]\n",
      "Epoch 500/500, Error: 2.9401, MSE: 1.4297, m1: [[1.00205453]], m2: [[0.53555683 0.46842997]], c: [[3.6839071  3.46341095]]\n",
      "Final 'm1' value: [[1.00188987]]\n",
      "Final 'm2' value: [[0.53535419 0.46841466]]\n",
      "Final 'c' value: [[3.6852186  3.46419016]]\n"
     ]
    },
    {
     "ename": "",
     "evalue": "",
     "output_type": "error",
     "traceback": [
      "\u001b[1;31mThe Kernel crashed while executing code in the the current cell or a previous cell. Please review the code in the cell(s) to identify a possible cause of the failure. Click <a href='https://aka.ms/vscodeJupyterKernelCrash'>here</a> for more info. View Jupyter <a href='command:jupyter.viewOutput'>log</a> for further details."
     ]
    }
   ],
   "source": [
    "sess.run(tf.compat.v1.global_variables_initializer())\n",
    "\n",
    "# Training loop\n",
    "num_epochs = 500\n",
    "for epoch in range(num_epochs):\n",
    "    _, current_error, cuurent_mse, current_m1, current_m2, current_c = sess.run([train_op, error, mse_error, m1, m2, c])\n",
    "    if (epoch + 1) % 25 == 0:\n",
    "        print(f\"Epoch {epoch + 1}/{num_epochs}, Error: {current_error:.4f}, MSE: {cuurent_mse:.4f}, m1: {current_m1}, m2: {current_m2}, c: {current_c}\")\n",
    "\n",
    "# Print the final results for 'm' and 'c'\n",
    "final_m1, final_m2, final_c = sess.run([m1, m2, c])\n",
    "print(f\"Final 'm1' value: {final_m1}\")\n",
    "\n",
    "print(f\"Final 'm2' value: {final_m2}\")\n",
    "print(f\"Final 'c' value: {final_c}\")"
   ]
  },
  {
   "cell_type": "code",
   "execution_count": 36,
   "metadata": {},
   "outputs": [
    {
     "name": "stdout",
     "output_type": "stream",
     "text": [
      "Epoch 20/300, Error: 20.5976, MSE: 19.4512, m1: [[1.00087455]], m2: [[0.81657387 0.69257361]]\n",
      "Epoch 40/300, Error: 19.1328, MSE: 18.5700, m1: [[1.15943691]], m2: [[0.58976343 0.46360696]]\n",
      "Epoch 60/300, Error: 18.7407, MSE: 18.5138, m1: [[1.33486674]], m2: [[0.38470843 0.28093771]]\n",
      "Epoch 80/300, Error: 18.5738, MSE: 18.4975, m1: [[1.47186819]], m2: [[0.24460068 0.1283945 ]]\n",
      "Epoch 100/300, Error: 18.5215, MSE: 18.4982, m1: [[1.5649051]], m2: [[0.14883986 0.03402887]]\n",
      "Epoch 120/300, Error: 18.5073, MSE: 18.4977, m1: [[1.61930527]], m2: [[ 0.09663485 -0.01817937]]\n",
      "Epoch 140/300, Error: 18.5046, MSE: 18.4976, m1: [[1.64508856]], m2: [[ 0.07124342 -0.04411784]]\n",
      "Epoch 160/300, Error: 18.5043, MSE: 18.4976, m1: [[1.65532553]], m2: [[ 0.06103003 -0.0545145 ]]\n",
      "Epoch 180/300, Error: 18.5043, MSE: 18.4976, m1: [[1.65847038]], m2: [[ 0.05796436 -0.05761302]]\n",
      "Epoch 200/300, Error: 18.5043, MSE: 18.4976, m1: [[1.65898904]], m2: [[ 0.05747114 -0.05810837]]\n",
      "Epoch 220/300, Error: 18.5043, MSE: 18.4976, m1: [[1.65886673]], m2: [[ 0.05759877 -0.0579793 ]]\n",
      "Epoch 240/300, Error: 18.5043, MSE: 18.4976, m1: [[1.65873272]], m2: [[ 0.05773461 -0.05784315]]\n",
      "Epoch 260/300, Error: 18.5043, MSE: 18.4976, m1: [[1.65868008]], m2: [[ 0.05778741 -0.05779055]]\n",
      "Epoch 280/300, Error: 18.5043, MSE: 18.4976, m1: [[1.65867193]], m2: [[ 0.05779491 -0.05778301]]\n",
      "Epoch 300/300, Error: 18.5043, MSE: 18.4976, m1: [[1.65867523]], m2: [[ 0.05779165 -0.05778618]]\n",
      "Final 'm1' value: [[1.65867543]]\n",
      "Final 'm2' value: [[ 0.0577915  -0.05778633]]\n"
     ]
    }
   ],
   "source": [
    "\n",
    "sess.run(tf.compat.v1.global_variables_initializer())\n",
    "\n",
    "# Training loop\n",
    "num_epochs = 300\n",
    "for epoch in range(num_epochs):\n",
    "    _, current_error, cuurent_mse, current_m1, current_m2 = sess.run([train_op, error, mse_error, m1, m2])\n",
    "    if (epoch + 1) % 20 == 0:\n",
    "        print(f\"Epoch {epoch + 1}/{num_epochs}, Error: {current_error:.4f}, MSE: {cuurent_mse:.4f}, m1: {current_m1}, m2: {current_m2}\")\n",
    "\n",
    "# Print the final results for 'm' and 'c'\n",
    "final_m1, final_m2 = sess.run([m1, m2])\n",
    "print(f\"Final 'm1' value: {final_m1}\")\n",
    "\n",
    "print(f\"Final 'm2' value: {final_m2}\")"
   ]
  },
  {
   "cell_type": "code",
   "execution_count": 18,
   "metadata": {},
   "outputs": [
    {
     "data": {
      "text/plain": [
       "array([[ 5.,  6.],\n",
       "       [ 7.,  8.],\n",
       "       [ 9., 10.],\n",
       "       [11., 12.]])"
      ]
     },
     "execution_count": 18,
     "metadata": {},
     "output_type": "execute_result"
    }
   ],
   "source": [
    "sess.run(y)"
   ]
  },
  {
   "cell_type": "code",
   "execution_count": 17,
   "metadata": {},
   "outputs": [
    {
     "data": {
      "text/plain": [
       "array([[ 2.70244533,  4.184779  ],\n",
       "       [ 5.40489067,  6.77716849],\n",
       "       [ 8.107336  ,  9.36955799],\n",
       "       [12.51222666, 13.55433699]])"
      ]
     },
     "execution_count": 17,
     "metadata": {},
     "output_type": "execute_result"
    }
   ],
   "source": [
    "sess.run(y_pred)"
   ]
  },
  {
   "cell_type": "code",
   "execution_count": null,
   "metadata": {},
   "outputs": [],
   "source": []
  }
 ],
 "metadata": {
  "kernelspec": {
   "display_name": "base",
   "language": "python",
   "name": "python3"
  },
  "language_info": {
   "codemirror_mode": {
    "name": "ipython",
    "version": 3
   },
   "file_extension": ".py",
   "mimetype": "text/x-python",
   "name": "python",
   "nbconvert_exporter": "python",
   "pygments_lexer": "ipython3",
   "version": "3.9.6"
  },
  "orig_nbformat": 4
 },
 "nbformat": 4,
 "nbformat_minor": 2
}
