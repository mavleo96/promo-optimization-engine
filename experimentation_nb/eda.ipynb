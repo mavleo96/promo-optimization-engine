{
 "cells": [
  {
   "cell_type": "code",
   "execution_count": 46,
   "metadata": {},
   "outputs": [
    {
     "name": "stdout",
     "output_type": "stream",
     "text": [
      "data/brand_segment_mapping_hackathon.xlsx\n",
      "data/macro_data.xlsx\n",
      "data/maximum_discount_constraint_hackathon.xlsx\n",
      "data/sales_data_hackathon.xlsx\n",
      "data/volume_variation_constraint_hackathon.xlsx\n",
      "data/submission_template_hackathon.csv\n"
     ]
    }
   ],
   "source": [
    "# !pip install azure-storage-blob\n",
    "# !pip install python-dotenv\n",
    "\n",
    "import os\n",
    "from dotenv import load_dotenv\n",
    "from setup_utils import fetch_data, load_data, create_time_index\n",
    "import pandas as pd\n",
    "import numpy as np\n",
    "\n",
    "CONNECTION_STRING = os.getenv(\"CONNECTION_STRING\")\n",
    "\n",
    "load_dotenv()\n",
    "fetch_data(CONNECTION_STRING)\n",
    "\n",
    "(\n",
    "    brand_mapping,\n",
    "    macro_data,\n",
    "    brand_constraint,\n",
    "    pack_constraint,\n",
    "    segment_constraint,\n",
    "    sales_data,\n",
    "    volume_variation_constraint,\n",
    ") = load_data()\n",
    "\n",
    "(\n",
    "    macro_data,\n",
    "    sales_data,\n",
    ") = create_time_index([macro_data, sales_data])\n"
   ]
  },
  {
   "cell_type": "code",
   "execution_count": 47,
   "metadata": {},
   "outputs": [],
   "source": [
    "from sklearn.metrics import make_scorer, r2_score"
   ]
  },
  {
   "cell_type": "code",
   "execution_count": 48,
   "metadata": {},
   "outputs": [],
   "source": [
    "pd.set_option(\"display.max_rows\", 500)\n",
    "pd.set_option(\"display.max_columns\", 500)"
   ]
  },
  {
   "cell_type": "code",
   "execution_count": 49,
   "metadata": {},
   "outputs": [],
   "source": [
    "target_sku_list = sales_data[sales_data.gto.isna()].sku.unique()\n",
    "target_brand_list = sales_data[sales_data.gto.isna()][[\"sku\", \"brand\"]].brand.unique()"
   ]
  },
  {
   "cell_type": "code",
   "execution_count": 50,
   "metadata": {},
   "outputs": [],
   "source": [
    "k = sales_data[[\"sku\", \"brand\"]].drop_duplicates().groupby(\"sku\").apply(lambda x: set(x.brand.unique()))#[target_sku_list]\n",
    "k2 = sales_data[[\"sku\", \"brand\"]].drop_duplicates().groupby(\"sku\").apply(lambda x: x.brand.nunique()>1)\n",
    "\n",
    "issue_skus = k[k2].drop_duplicates().to_list()\n",
    "\n",
    "brand_date_range = sales_data.fillna(0).reset_index().groupby(\"brand\").apply(lambda x: pd.Series([x.date.min(), x.date.max()], index=[\"min\", \"max\"]))\n",
    "brand_date_range = brand_date_range.to_dict()"
   ]
  },
  {
   "cell_type": "code",
   "execution_count": 51,
   "metadata": {},
   "outputs": [],
   "source": [
    "# [(tuple(i)[0] in target_brand_list, tuple(i)[1] in target_brand_list) for i in issue_skus]\n",
    "# sales_data[[\"sku\", \"brand\"]].drop_duplicates().groupby(\"brand\").apply(lambda x: x.sku.nunique())[list(set.union(*issue_skus))]\n",
    "# [(brand_date_range[\"max\"][tuple(i)[0]], brand_date_range[\"max\"][tuple(i)[1]]) for i in issue_skus]\n",
    "# [(brand_date_range[\"min\"][tuple(i)[0]], brand_date_range[\"min\"][tuple(i)[1]]) for i in issue_skus]"
   ]
  },
  {
   "cell_type": "code",
   "execution_count": 52,
   "metadata": {},
   "outputs": [],
   "source": [
    "# sales_data.reset_index().groupby([\"date\", \"brand\"]).volume.sum().unstack(1).T.loc[target_brand_list]"
   ]
  },
  {
   "cell_type": "code",
   "execution_count": 53,
   "metadata": {},
   "outputs": [],
   "source": [
    "# sales_data.reset_index().groupby([\"date\", \"sku\"]).volume.sum().unstack(1).T"
   ]
  },
  {
   "cell_type": "code",
   "execution_count": 54,
   "metadata": {},
   "outputs": [],
   "source": [
    "df = sales_data.reset_index().groupby([\"date\"])[[\"volume\", \"net_revenue\", \"promotional_discount\", \"other_discounts\"]].sum().sort_index().join(macro_data)\n",
    "k = df.net_revenue.shift(1)\n",
    "k.name = \"shifted_nr\"\n",
    "df = df.join(k).fillna(method=\"bfill\")"
   ]
  },
  {
   "cell_type": "code",
   "execution_count": 55,
   "metadata": {},
   "outputs": [],
   "source": [
    "import tensorflow as tf"
   ]
  },
  {
   "cell_type": "code",
   "execution_count": 56,
   "metadata": {},
   "outputs": [],
   "source": [
    "data = df.iloc[:-2].copy(deep=True)\n",
    "\n",
    "scaled_cols = [\"net_revenue\", \"promotional_discount\", \"other_discounts\", \"shifted_nr\"]#, \"private_consumption\", \"gross_domestic_saving\", \"brnd_money\", \"gdp\", \"shifted_nr\"]\n",
    "scaler = data.net_revenue.mean()\n",
    "data.loc[:,scaled_cols] = data.loc[:,scaled_cols]/scaler\n",
    "\n",
    "\n",
    "mixed_effect_cols = [\"retail_sales_index\", \"unemployment_rate\", \"cpi\", \"private_consumption\", \"gross_domestic_saving\", \"brad_money\", \"gdp\"]\n",
    "\n",
    "data.loc[:, mixed_effect_cols] = data.loc[:, mixed_effect_cols].divide(data.loc[:, mixed_effect_cols].mean())-1"
   ]
  },
  {
   "cell_type": "code",
   "execution_count": 57,
   "metadata": {},
   "outputs": [],
   "source": [
    "tf.compat.v1.reset_default_graph()\n",
    "tf.compat.v1.enable_eager_execution()"
   ]
  },
  {
   "cell_type": "code",
   "execution_count": 63,
   "metadata": {},
   "outputs": [],
   "source": [
    "tf.compat.v1.reset_default_graph()\n",
    "tf.compat.v1.disable_eager_execution()"
   ]
  },
  {
   "cell_type": "code",
   "execution_count": 64,
   "metadata": {},
   "outputs": [],
   "source": [
    "sess = tf.compat.v1.Session()\n",
    "\n",
    "# Y\n",
    "# y = tf.constant(data.net_revenue, dtype=tf.float64)\n",
    "# discounts = -tf.constant(data[[\"promotional_discount\", \"other_discounts\"]].values, dtype=tf.float64)\n",
    "# mixed_effect = tf.constant(data[mixed_effect_cols].values, dtype=tf.float64)\n",
    "# time_index = tf.constant(np.arange(1, data.shape[0]+1), dtype=tf.float64)\n",
    "# shifted_nr = tf.constant(data.shifted_nr, dtype=tf.float64)\n",
    "\n",
    "#Y\n",
    "y = tf.compat.v1.placeholder(dtype=tf.float64, name=\"y_actual\")\n",
    "\n",
    "# X\n",
    "shifted_nr = tf.compat.v1.placeholder(dtype=tf.float64, name=\"shifted_nr\")\n",
    "discounts = tf.compat.v1.placeholder(dtype=tf.float64, name=\"discounts\")\n",
    "mixed_effect = tf.compat.v1.placeholder(dtype=tf.float64, name=\"mixed_effects\")\n",
    "time_index = tf.compat.v1.placeholder(dtype=tf.float64, name=\"time_index\")\n",
    "\n",
    "\n",
    "\n",
    "# variables\n",
    "baseline_intercept = tf.Variable(1, dtype=tf.float64)\n",
    "baseline_slope1 = tf.Variable(1, dtype=tf.float64)\n",
    "baseline_slope2 = tf.Variable(1, dtype=tf.float64)\n",
    "mixed_effect_mult = tf.Variable(np.random.normal(loc=1, size=(1, 7)), dtype=tf.float64)\n",
    "discount_slope = tf.math.sigmoid(tf.Variable(np.random.normal(loc=-1, size=(1, 2)), dtype=tf.float64))*3\n",
    "roi_mults = tf.Variable(np.random.normal(loc=1, size=(1, 7)), dtype=tf.float64)\n",
    "\n",
    "variable_list = [baseline_intercept, baseline_slope1, baseline_slope2, mixed_effect_mult, discount_slope]\n",
    "\n",
    "# impacts\n",
    "base1 = tf.multiply(baseline_slope1, time_index) + baseline_intercept\n",
    "base2 = base1# + tf.multiply(baseline_slope2, shifted_nr)\n",
    "mixed_effect_impact = 1 + tf.nn.tanh(tf.multiply(mixed_effect, mixed_effect_mult))\n",
    "total_mixed_effect_impact = tf.reduce_prod(mixed_effect_impact, axis=1)\n",
    "discount_impact = tf.multiply(discount_slope, discounts)\n",
    "roi_mult_impact = 1 + tf.nn.tanh(tf.multiply(mixed_effect_impact, roi_mults))\n",
    "total_roi_mult_impact = tf.expand_dims(tf.reduce_prod(roi_mult_impact, axis=1), axis=1)\n",
    "\n",
    "# prediction\n",
    "y_pred = (\n",
    "    tf.multiply(base2, total_mixed_effect_impact)\n",
    "    + tf.reduce_sum(discount_impact, axis=1)\n",
    ")\n",
    "\n",
    "# loss\n",
    "wape = tf.reduce_sum(tf.math.abs(y - y_pred))/tf.reduce_sum(y)\n",
    "mse = tf.reduce_sum(tf.math.square(y - y_pred))\n",
    "reg = sum([tf.reduce_sum(tf.square(i)) for i in variable_list])\n",
    "\n",
    "loss = 1e3*wape + 1e2*mse + reg"
   ]
  },
  {
   "cell_type": "code",
   "execution_count": 65,
   "metadata": {},
   "outputs": [],
   "source": [
    "feed_dict1 = {\n",
    "    discounts : -data[[\"promotional_discount\", \"other_discounts\"]].iloc[:-5,:].astype(np.float64).values,\n",
    "    mixed_effect: data[mixed_effect_cols].iloc[:-5,:].astype(np.float64).values,\n",
    "    shifted_nr : data[\"shifted_nr\"].iloc[:-5].astype(np.float64).values,\n",
    "    y : data[\"net_revenue\"].iloc[:-5].astype(np.float64).values,\n",
    "    time_index : np.float64(np.arange(1, data.iloc[:-5,:].shape[0]+1)),\n",
    "}\n",
    "\n",
    "feed_dict2 = {\n",
    "    discounts : -data[[\"promotional_discount\", \"other_discounts\"]].iloc[-5:,:].astype(np.float64).values,\n",
    "    mixed_effect: data[mixed_effect_cols].iloc[-5:,:].astype(np.float64).values,\n",
    "    shifted_nr : data[\"shifted_nr\"].iloc[-5:].astype(np.float64).values,\n",
    "    y : data[\"net_revenue\"].iloc[-5:].astype(np.float64).values,\n",
    "    time_index : np.float64(np.arange(1, data.iloc[-5:,:].shape[0]+1)),\n",
    "}"
   ]
  },
  {
   "cell_type": "code",
   "execution_count": 66,
   "metadata": {},
   "outputs": [],
   "source": [
    "epoch = 0\n",
    "# optimizer\n",
    "lr = lambda x : 0.1 / np.power(x/100 + 10, 2 / 3)\n",
    "optimizer = tf.compat.v1.train.AdamOptimizer(learning_rate=lr(epoch))#, beta1=0.1, beta2=0.1)\n",
    "train = optimizer.minimize(loss)\n",
    "\n",
    "# initialize variables\n",
    "init = tf.compat.v1.global_variables_initializer()\n",
    "sess.run(init, feed_dict1)"
   ]
  },
  {
   "cell_type": "code",
   "execution_count": 62,
   "metadata": {},
   "outputs": [
    {
     "name": "stdout",
     "output_type": "stream",
     "text": [
      "Epoch 250/30000, Loss: 1012.1704, WAPE: 0.3009, MSE: 6.9663, reg: 14.6864\n",
      "Epoch 500/30000, Loss: 917.5502, WAPE: 0.2879, MSE: 6.1463, reg: 14.9932\n",
      "Epoch 750/30000, Loss: 813.9463, WAPE: 0.2725, MSE: 5.2583, reg: 15.6164\n",
      "Epoch 1000/30000, Loss: 710.8809, WAPE: 0.2537, MSE: 4.4033, reg: 16.8145\n",
      "Epoch 1250/30000, Loss: 617.2780, WAPE: 0.2336, MSE: 3.6494, reg: 18.7156\n",
      "Epoch 1500/30000, Loss: 541.0920, WAPE: 0.2148, MSE: 3.0545, reg: 20.8322\n",
      "Epoch 1750/30000, Loss: 478.8786, WAPE: 0.1972, MSE: 2.5905, reg: 22.6336\n",
      "Epoch 2000/30000, Loss: 426.7940, WAPE: 0.1808, MSE: 2.2200, reg: 24.0146\n",
      "Epoch 2250/30000, Loss: 382.0084, WAPE: 0.1653, MSE: 1.9165, reg: 25.0524\n",
      "Epoch 2500/30000, Loss: 345.2227, WAPE: 0.1526, MSE: 1.6680, reg: 25.8052\n",
      "Epoch 2750/30000, Loss: 317.1107, WAPE: 0.1435, MSE: 1.4731, reg: 26.3115\n",
      "Epoch 3000/30000, Loss: 291.2362, WAPE: 0.1343, MSE: 1.3028, reg: 26.6813\n",
      "Epoch 3250/30000, Loss: 267.2287, WAPE: 0.1250, MSE: 1.1529, reg: 26.9391\n",
      "Epoch 3500/30000, Loss: 244.8819, WAPE: 0.1156, MSE: 1.0221, reg: 27.1020\n",
      "Epoch 3750/30000, Loss: 226.7668, WAPE: 0.1080, MSE: 0.9161, reg: 27.1773\n",
      "Epoch 4000/30000, Loss: 212.4132, WAPE: 0.1019, MSE: 0.8339, reg: 27.1617\n",
      "Epoch 4250/30000, Loss: 201.9380, WAPE: 0.0982, MSE: 0.7672, reg: 27.0680\n",
      "Epoch 4500/30000, Loss: 192.9788, WAPE: 0.0953, MSE: 0.7081, reg: 26.9172\n",
      "Epoch 4750/30000, Loss: 184.5088, WAPE: 0.0922, MSE: 0.6557, reg: 26.6936\n",
      "Epoch 5000/30000, Loss: 176.8557, WAPE: 0.0894, MSE: 0.6108, reg: 26.3878\n",
      "Epoch 5250/30000, Loss: 170.8042, WAPE: 0.0874, MSE: 0.5738, reg: 25.9850\n",
      "Epoch 5500/30000, Loss: 165.1705, WAPE: 0.0856, MSE: 0.5408, reg: 25.4704\n",
      "Epoch 5750/30000, Loss: 160.2593, WAPE: 0.0838, MSE: 0.5163, reg: 24.7856\n",
      "Epoch 6000/30000, Loss: 156.1376, WAPE: 0.0824, MSE: 0.4976, reg: 23.9772\n",
      "Epoch 6250/30000, Loss: 152.1655, WAPE: 0.0809, MSE: 0.4818, reg: 23.0506\n",
      "Epoch 6500/30000, Loss: 148.9975, WAPE: 0.0800, MSE: 0.4686, reg: 22.1050\n",
      "Epoch 6750/30000, Loss: 146.7019, WAPE: 0.0792, MSE: 0.4627, reg: 21.2569\n",
      "Epoch 7000/30000, Loss: 145.3033, WAPE: 0.0792, MSE: 0.4545, reg: 20.6647\n",
      "Epoch 7250/30000, Loss: 144.7819, WAPE: 0.0797, MSE: 0.4478, reg: 20.2590\n",
      "Epoch 7500/30000, Loss: 144.0840, WAPE: 0.0791, MSE: 0.4510, reg: 19.8901\n",
      "Epoch 7750/30000, Loss: 144.1075, WAPE: 0.0803, MSE: 0.4426, reg: 19.5346\n",
      "Epoch 8000/30000, Loss: 142.6542, WAPE: 0.0795, MSE: 0.4401, reg: 19.1871\n",
      "Epoch 8250/30000, Loss: 141.6127, WAPE: 0.0787, MSE: 0.4404, reg: 18.8451\n",
      "Epoch 8500/30000, Loss: 140.8547, WAPE: 0.0785, MSE: 0.4385, reg: 18.5090\n",
      "Epoch 8750/30000, Loss: 140.0269, WAPE: 0.0783, MSE: 0.4356, reg: 18.1808\n",
      "Epoch 9000/30000, Loss: 139.1847, WAPE: 0.0780, MSE: 0.4333, reg: 17.8467\n",
      "Epoch 9250/30000, Loss: 139.0416, WAPE: 0.0779, MSE: 0.4364, reg: 17.4981\n",
      "Epoch 9500/30000, Loss: 138.3804, WAPE: 0.0777, MSE: 0.4356, reg: 17.1511\n",
      "Epoch 9750/30000, Loss: 137.0525, WAPE: 0.0772, MSE: 0.4299, reg: 16.8551\n",
      "Epoch 10000/30000, Loss: 138.8735, WAPE: 0.0800, MSE: 0.4233, reg: 16.5712\n",
      "Epoch 10250/30000, Loss: 137.3171, WAPE: 0.0790, MSE: 0.4202, reg: 16.2567\n",
      "Epoch 10500/30000, Loss: 135.9677, WAPE: 0.0783, MSE: 0.4191, reg: 15.7883\n",
      "Epoch 10750/30000, Loss: 136.8879, WAPE: 0.0772, MSE: 0.4474, reg: 14.9854\n",
      "Epoch 11000/30000, Loss: 138.1017, WAPE: 0.0778, MSE: 0.4636, reg: 13.9098\n",
      "Epoch 11250/30000, Loss: 137.3933, WAPE: 0.0779, MSE: 0.4635, reg: 13.1777\n",
      "Epoch 11500/30000, Loss: 137.3219, WAPE: 0.0812, MSE: 0.4307, reg: 13.0475\n",
      "Epoch 11750/30000, Loss: 134.8403, WAPE: 0.0795, MSE: 0.4259, reg: 12.7859\n",
      "Epoch 12000/30000, Loss: 138.6050, WAPE: 0.0783, MSE: 0.4761, reg: 12.6511\n",
      "Epoch 12250/30000, Loss: 135.6202, WAPE: 0.0800, MSE: 0.4246, reg: 13.1946\n",
      "Epoch 12500/30000, Loss: 134.4182, WAPE: 0.0789, MSE: 0.4212, reg: 13.3582\n",
      "Epoch 12750/30000, Loss: 139.7242, WAPE: 0.0786, MSE: 0.4764, reg: 13.4948\n",
      "Epoch 13000/30000, Loss: 135.4847, WAPE: 0.0797, MSE: 0.4220, reg: 13.5972\n",
      "Epoch 13250/30000, Loss: 133.8488, WAPE: 0.0783, MSE: 0.4183, reg: 13.6815\n",
      "Epoch 13500/30000, Loss: 141.5455, WAPE: 0.0793, MSE: 0.4856, reg: 13.7254\n",
      "Epoch 13750/30000, Loss: 135.1238, WAPE: 0.0793, MSE: 0.4202, reg: 13.7703\n",
      "Epoch 14000/30000, Loss: 134.8781, WAPE: 0.0791, MSE: 0.4194, reg: 13.8019\n",
      "Epoch 14250/30000, Loss: 141.4769, WAPE: 0.0792, MSE: 0.4847, reg: 13.8134\n",
      "Epoch 14500/30000, Loss: 136.1283, WAPE: 0.0800, MSE: 0.4227, reg: 13.8311\n",
      "Epoch 14750/30000, Loss: 133.3945, WAPE: 0.0779, MSE: 0.4170, reg: 13.8324\n",
      "Epoch 15000/30000, Loss: 139.1342, WAPE: 0.0783, MSE: 0.4696, reg: 13.8263\n",
      "Epoch 15250/30000, Loss: 135.6050, WAPE: 0.0797, MSE: 0.4210, reg: 13.8321\n",
      "Epoch 15500/30000, Loss: 134.6369, WAPE: 0.0789, MSE: 0.4186, reg: 13.8386\n",
      "Epoch 15750/30000, Loss: 140.5610, WAPE: 0.0789, MSE: 0.4788, reg: 13.8257\n",
      "Epoch 16000/30000, Loss: 135.8329, WAPE: 0.0798, MSE: 0.4216, reg: 13.8398\n",
      "Epoch 16250/30000, Loss: 134.1463, WAPE: 0.0785, MSE: 0.4177, reg: 13.8314\n",
      "Epoch 16500/30000, Loss: 141.5977, WAPE: 0.0792, MSE: 0.4853, reg: 13.8321\n",
      "Epoch 16750/30000, Loss: 136.3666, WAPE: 0.0802, MSE: 0.4233, reg: 13.8377\n",
      "Epoch 17000/30000, Loss: 133.9701, WAPE: 0.0784, MSE: 0.4175, reg: 13.8312\n",
      "Epoch 17250/30000, Loss: 140.5883, WAPE: 0.0789, MSE: 0.4789, reg: 13.8259\n",
      "Epoch 17500/30000, Loss: 136.5299, WAPE: 0.0803, MSE: 0.4238, reg: 13.8333\n",
      "Epoch 17750/30000, Loss: 134.1928, WAPE: 0.0786, MSE: 0.4177, reg: 13.8260\n",
      "Epoch 18000/30000, Loss: 140.6616, WAPE: 0.0789, MSE: 0.4791, reg: 13.8307\n",
      "Epoch 18250/30000, Loss: 135.5750, WAPE: 0.0796, MSE: 0.4209, reg: 13.8357\n",
      "Epoch 18500/30000, Loss: 134.1620, WAPE: 0.0786, MSE: 0.4177, reg: 13.8351\n",
      "Epoch 18750/30000, Loss: 142.0820, WAPE: 0.0794, MSE: 0.4886, reg: 13.8239\n",
      "Epoch 19000/30000, Loss: 135.6608, WAPE: 0.0797, MSE: 0.4211, reg: 13.8276\n",
      "Epoch 19250/30000, Loss: 134.1550, WAPE: 0.0786, MSE: 0.4176, reg: 13.8403\n",
      "Epoch 19500/30000, Loss: 140.9469, WAPE: 0.0790, MSE: 0.4810, reg: 13.8266\n",
      "Epoch 19750/30000, Loss: 136.3633, WAPE: 0.0802, MSE: 0.4233, reg: 13.8361\n",
      "Epoch 20000/30000, Loss: 134.6240, WAPE: 0.0789, MSE: 0.4185, reg: 13.8312\n",
      "Epoch 20250/30000, Loss: 141.4190, WAPE: 0.0791, MSE: 0.4845, reg: 13.8202\n",
      "Epoch 20500/30000, Loss: 136.2962, WAPE: 0.0801, MSE: 0.4231, reg: 13.8420\n",
      "Epoch 20750/30000, Loss: 134.0477, WAPE: 0.0785, MSE: 0.4175, reg: 13.8351\n",
      "Epoch 21000/30000, Loss: 141.8215, WAPE: 0.0793, MSE: 0.4869, reg: 13.8261\n",
      "Epoch 21250/30000, Loss: 135.1227, WAPE: 0.0793, MSE: 0.4197, reg: 13.8299\n",
      "Epoch 21500/30000, Loss: 134.7527, WAPE: 0.0790, MSE: 0.4188, reg: 13.8287\n",
      "Epoch 21750/30000, Loss: 141.7680, WAPE: 0.0793, MSE: 0.4863, reg: 13.8332\n",
      "Epoch 22000/30000, Loss: 135.6843, WAPE: 0.0797, MSE: 0.4212, reg: 13.8366\n",
      "Epoch 22250/30000, Loss: 134.5404, WAPE: 0.0789, MSE: 0.4184, reg: 13.8329\n",
      "Epoch 22500/30000, Loss: 140.7347, WAPE: 0.0790, MSE: 0.4796, reg: 13.8218\n",
      "Epoch 22750/30000, Loss: 135.5532, WAPE: 0.0796, MSE: 0.4208, reg: 13.8271\n",
      "Epoch 23000/30000, Loss: 134.5093, WAPE: 0.0788, MSE: 0.4183, reg: 13.8414\n",
      "Epoch 23250/30000, Loss: 141.3852, WAPE: 0.0792, MSE: 0.4838, reg: 13.8298\n",
      "Epoch 23500/30000, Loss: 135.1578, WAPE: 0.0793, MSE: 0.4198, reg: 13.8315\n",
      "Epoch 23750/30000, Loss: 134.1898, WAPE: 0.0786, MSE: 0.4177, reg: 13.8312\n",
      "Epoch 24000/30000, Loss: 140.6546, WAPE: 0.0789, MSE: 0.4792, reg: 13.8173\n",
      "Epoch 24250/30000, Loss: 135.1476, WAPE: 0.0793, MSE: 0.4197, reg: 13.8413\n",
      "Epoch 24500/30000, Loss: 134.3051, WAPE: 0.0787, MSE: 0.4179, reg: 13.8407\n",
      "Epoch 24750/30000, Loss: 140.7198, WAPE: 0.0790, MSE: 0.4795, reg: 13.8234\n",
      "Epoch 25000/30000, Loss: 136.2304, WAPE: 0.0801, MSE: 0.4229, reg: 13.8326\n",
      "Epoch 25250/30000, Loss: 133.8736, WAPE: 0.0783, MSE: 0.4173, reg: 13.8249\n",
      "Epoch 25500/30000, Loss: 140.6929, WAPE: 0.0789, MSE: 0.4792, reg: 13.8343\n",
      "Epoch 25750/30000, Loss: 135.4354, WAPE: 0.0795, MSE: 0.4205, reg: 13.8432\n",
      "Epoch 26000/30000, Loss: 134.1462, WAPE: 0.0785, MSE: 0.4177, reg: 13.8327\n",
      "Epoch 26250/30000, Loss: 141.6674, WAPE: 0.0793, MSE: 0.4857, reg: 13.8241\n",
      "Epoch 26500/30000, Loss: 135.9437, WAPE: 0.0799, MSE: 0.4220, reg: 13.8263\n",
      "Epoch 26750/30000, Loss: 134.1476, WAPE: 0.0785, MSE: 0.4176, reg: 13.8442\n",
      "Epoch 27000/30000, Loss: 140.3937, WAPE: 0.0788, MSE: 0.4777, reg: 13.8329\n",
      "Epoch 27250/30000, Loss: 135.3856, WAPE: 0.0795, MSE: 0.4204, reg: 13.8346\n",
      "Epoch 27500/30000, Loss: 134.4716, WAPE: 0.0788, MSE: 0.4182, reg: 13.8328\n",
      "Epoch 27750/30000, Loss: 141.7302, WAPE: 0.0793, MSE: 0.4861, reg: 13.8187\n",
      "Epoch 28000/30000, Loss: 135.4047, WAPE: 0.0795, MSE: 0.4204, reg: 13.8463\n",
      "Epoch 28250/30000, Loss: 134.4063, WAPE: 0.0788, MSE: 0.4181, reg: 13.8378\n",
      "Epoch 28500/30000, Loss: 140.6716, WAPE: 0.0789, MSE: 0.4795, reg: 13.8284\n",
      "Epoch 28750/30000, Loss: 135.1731, WAPE: 0.0794, MSE: 0.4198, reg: 13.8333\n",
      "Epoch 29000/30000, Loss: 134.7131, WAPE: 0.0790, MSE: 0.4187, reg: 13.8282\n",
      "Epoch 29250/30000, Loss: 140.0842, WAPE: 0.0787, MSE: 0.4756, reg: 13.8359\n",
      "Epoch 29500/30000, Loss: 135.4771, WAPE: 0.0796, MSE: 0.4206, reg: 13.8337\n",
      "Epoch 29750/30000, Loss: 134.6633, WAPE: 0.0790, MSE: 0.4186, reg: 13.8369\n",
      "Epoch 30000/30000, Loss: 140.6725, WAPE: 0.0789, MSE: 0.4792, reg: 13.8267\n"
     ]
    }
   ],
   "source": [
    "# train model\n",
    "num_epochs = 30000\n",
    "for epoch in range(num_epochs):\n",
    "    _, current_loss, current_wape, current_mse, current_reg = sess.run([train, loss, wape, mse, reg], feed_dict1)\n",
    "    if (epoch + 1) % 250 == 0:\n",
    "        print(f\"Epoch {epoch + 1}/{num_epochs}, Loss: {current_loss:.4f}, WAPE: {current_wape:.4f}, MSE: {current_mse:.4f}, reg: {current_reg:.4f}\")\n",
    "\n",
    "\n",
    "#         # Training loop\n",
    "# num_epochs = 500\n",
    "# for epoch in range(num_epochs):\n",
    "#     _, current_error, cuurent_mse, current_m1, current_m2, current_c = sess.run([train_op, error, mse_error, m1, m2, c])\n",
    "#     if (epoch + 1) % 25 == 0:\n",
    "#         print(f\"Epoch {epoch + 1}/{num_epochs}, Error: {current_error:.4f}, MSE: {cuurent_mse:.4f}, m1: {current_m1}, m2: {current_m2}, c: {current_c}\")\n",
    "\n",
    "# # Print the final results for 'm' and 'c'\n",
    "# final_m1, final_m2, final_c = sess.run([m1, m2, c])\n",
    "# print(f\"Final 'm1' value: {final_m1}\")\n",
    "\n",
    "# print(f\"Final 'm2' value: {final_m2}\")\n",
    "# print(f\"Final 'c' value: {final_c}\")"
   ]
  },
  {
   "cell_type": "code",
   "execution_count": 67,
   "metadata": {},
   "outputs": [
    {
     "name": "stdout",
     "output_type": "stream",
     "text": [
      "Epoch 250/30000, Loss: 800.8982, WAPE: 0.2701, MSE: 5.1996, reg: 10.8298\n",
      "Epoch 500/30000, Loss: 557.7445, WAPE: 0.2158, MSE: 3.3097, reg: 10.9690\n",
      "Epoch 750/30000, Loss: 369.4071, WAPE: 0.1615, MSE: 1.9670, reg: 11.2121\n",
      "Epoch 1000/30000, Loss: 271.6997, WAPE: 0.1235, MSE: 1.3669, reg: 11.4932\n",
      "Epoch 1250/30000, Loss: 247.6462, WAPE: 0.1150, MSE: 1.2102, reg: 11.6699\n",
      "Epoch 1500/30000, Loss: 244.0953, WAPE: 0.1147, MSE: 1.1761, reg: 11.7443\n",
      "Epoch 1750/30000, Loss: 243.0375, WAPE: 0.1146, MSE: 1.1670, reg: 11.7657\n",
      "Epoch 2000/30000, Loss: 242.2569, WAPE: 0.1142, MSE: 1.1631, reg: 11.7651\n",
      "Epoch 2250/30000, Loss: 241.3654, WAPE: 0.1137, MSE: 1.1586, reg: 11.7652\n",
      "Epoch 2500/30000, Loss: 240.3281, WAPE: 0.1133, MSE: 1.1526, reg: 11.7655\n",
      "Epoch 2750/30000, Loss: 239.0956, WAPE: 0.1128, MSE: 1.1453, reg: 11.7668\n",
      "Epoch 3000/30000, Loss: 237.5696, WAPE: 0.1122, MSE: 1.1360, reg: 11.7711\n",
      "Epoch 3250/30000, Loss: 235.5137, WAPE: 0.1114, MSE: 1.1232, reg: 11.7843\n",
      "Epoch 3500/30000, Loss: 232.2320, WAPE: 0.1101, MSE: 1.1030, reg: 11.8453\n",
      "Epoch 3750/30000, Loss: 226.5421, WAPE: 0.1079, MSE: 1.0653, reg: 12.1532\n",
      "Epoch 4000/30000, Loss: 219.9935, WAPE: 0.1054, MSE: 1.0115, reg: 13.4046\n",
      "Epoch 4250/30000, Loss: 216.9422, WAPE: 0.1039, MSE: 0.9822, reg: 14.7877\n",
      "Epoch 4500/30000, Loss: 215.4008, WAPE: 0.1031, MSE: 0.9653, reg: 15.7192\n",
      "Epoch 4750/30000, Loss: 214.1594, WAPE: 0.1027, MSE: 0.9496, reg: 16.5289\n",
      "Epoch 5000/30000, Loss: 213.0641, WAPE: 0.1021, MSE: 0.9377, reg: 17.1627\n",
      "Epoch 5250/30000, Loss: 212.0519, WAPE: 0.1017, MSE: 0.9273, reg: 17.5753\n",
      "Epoch 5500/30000, Loss: 211.0577, WAPE: 0.1014, MSE: 0.9192, reg: 17.7697\n",
      "Epoch 5750/30000, Loss: 209.9856, WAPE: 0.1012, MSE: 0.9093, reg: 17.8734\n",
      "Epoch 6000/30000, Loss: 208.8479, WAPE: 0.1009, MSE: 0.9009, reg: 17.8789\n",
      "Epoch 6250/30000, Loss: 207.5475, WAPE: 0.1003, MSE: 0.8941, reg: 17.7995\n",
      "Epoch 6500/30000, Loss: 206.4536, WAPE: 0.0998, MSE: 0.8905, reg: 17.6374\n",
      "Epoch 6750/30000, Loss: 204.6437, WAPE: 0.0994, MSE: 0.8776, reg: 17.4512\n",
      "Epoch 7000/30000, Loss: 202.9770, WAPE: 0.0989, MSE: 0.8697, reg: 17.1510\n",
      "Epoch 7250/30000, Loss: 201.4512, WAPE: 0.0980, MSE: 0.8659, reg: 16.8825\n",
      "Epoch 7500/30000, Loss: 199.2815, WAPE: 0.0978, MSE: 0.8490, reg: 16.5655\n",
      "Epoch 7750/30000, Loss: 197.1726, WAPE: 0.0964, MSE: 0.8452, reg: 16.2772\n",
      "Epoch 8000/30000, Loss: 196.0407, WAPE: 0.0978, MSE: 0.8209, reg: 16.1639\n",
      "Epoch 8250/30000, Loss: 193.2191, WAPE: 0.0960, MSE: 0.8081, reg: 16.3643\n",
      "Epoch 8500/30000, Loss: 193.5520, WAPE: 0.0947, MSE: 0.8244, reg: 16.3739\n",
      "Epoch 8750/30000, Loss: 194.3082, WAPE: 0.0997, MSE: 0.7799, reg: 16.6224\n",
      "Epoch 9000/30000, Loss: 195.2728, WAPE: 0.0952, MSE: 0.8339, reg: 16.6674\n",
      "Epoch 9250/30000, Loss: 194.8006, WAPE: 0.1018, MSE: 0.7640, reg: 16.6013\n",
      "Epoch 9500/30000, Loss: 192.3148, WAPE: 0.0943, MSE: 0.8149, reg: 16.5379\n",
      "Epoch 9750/30000, Loss: 191.1853, WAPE: 0.1006, MSE: 0.7401, reg: 16.6223\n",
      "Epoch 10000/30000, Loss: 189.2841, WAPE: 0.0931, MSE: 0.7955, reg: 16.6547\n",
      "Epoch 10250/30000, Loss: 187.9480, WAPE: 0.0994, MSE: 0.7181, reg: 16.7670\n",
      "Epoch 10500/30000, Loss: 172.4092, WAPE: 0.0877, MSE: 0.6726, reg: 17.4798\n",
      "Epoch 10750/30000, Loss: 170.4575, WAPE: 0.0873, MSE: 0.6523, reg: 17.9330\n",
      "Epoch 11000/30000, Loss: 168.9657, WAPE: 0.0865, MSE: 0.6414, reg: 18.3285\n",
      "Epoch 11250/30000, Loss: 167.6561, WAPE: 0.0860, MSE: 0.6292, reg: 18.7106\n",
      "Epoch 11500/30000, Loss: 166.3522, WAPE: 0.0855, MSE: 0.6176, reg: 19.0873\n",
      "Epoch 11750/30000, Loss: 165.0793, WAPE: 0.0849, MSE: 0.6067, reg: 19.4707\n",
      "Epoch 12000/30000, Loss: 168.6283, WAPE: 0.0858, MSE: 0.6314, reg: 19.6554\n",
      "Epoch 12250/30000, Loss: 166.8556, WAPE: 0.0852, MSE: 0.6134, reg: 20.2701\n",
      "Epoch 12500/30000, Loss: 162.6034, WAPE: 0.0838, MSE: 0.5820, reg: 20.6013\n",
      "Epoch 12750/30000, Loss: 165.6261, WAPE: 0.0854, MSE: 0.5939, reg: 20.8680\n",
      "Epoch 13000/30000, Loss: 163.7120, WAPE: 0.0842, MSE: 0.5843, reg: 21.1303\n",
      "Epoch 13250/30000, Loss: 169.6569, WAPE: 0.0864, MSE: 0.6204, reg: 21.2103\n",
      "Epoch 13500/30000, Loss: 163.8286, WAPE: 0.0844, MSE: 0.5816, reg: 21.2260\n",
      "Epoch 13750/30000, Loss: 199.4548, WAPE: 0.0984, MSE: 0.7972, reg: 21.3480\n",
      "Epoch 14000/30000, Loss: 169.0828, WAPE: 0.0867, MSE: 0.6050, reg: 21.9136\n",
      "Epoch 14250/30000, Loss: 164.8881, WAPE: 0.0844, MSE: 0.5853, reg: 21.9405\n",
      "Epoch 14500/30000, Loss: 163.7059, WAPE: 0.0839, MSE: 0.5797, reg: 21.8523\n",
      "Epoch 14750/30000, Loss: 166.9034, WAPE: 0.0854, MSE: 0.5972, reg: 21.7505\n",
      "Epoch 15000/30000, Loss: 164.0368, WAPE: 0.0840, MSE: 0.5837, reg: 21.6452\n",
      "Epoch 15250/30000, Loss: 161.0667, WAPE: 0.0829, MSE: 0.5688, reg: 21.2677\n",
      "Epoch 15500/30000, Loss: 163.4622, WAPE: 0.0840, MSE: 0.5824, reg: 21.2002\n",
      "Epoch 15750/30000, Loss: 160.8802, WAPE: 0.0828, MSE: 0.5700, reg: 21.0433\n",
      "Epoch 16000/30000, Loss: 182.4386, WAPE: 0.0939, MSE: 0.6749, reg: 21.0526\n",
      "Epoch 16250/30000, Loss: 163.6458, WAPE: 0.0842, MSE: 0.5829, reg: 21.1731\n",
      "Epoch 16500/30000, Loss: 162.1400, WAPE: 0.0835, MSE: 0.5741, reg: 21.1985\n",
      "Epoch 16750/30000, Loss: 163.6829, WAPE: 0.0839, MSE: 0.5845, reg: 21.3751\n",
      "Epoch 17000/30000, Loss: 176.5112, WAPE: 0.0910, MSE: 0.6406, reg: 21.4170\n",
      "Epoch 17250/30000, Loss: 159.9592, WAPE: 0.0821, MSE: 0.5621, reg: 21.6217\n",
      "Epoch 17500/30000, Loss: 159.6494, WAPE: 0.0819, MSE: 0.5612, reg: 21.5908\n",
      "Epoch 17750/30000, Loss: 159.4533, WAPE: 0.0818, MSE: 0.5604, reg: 21.6164\n",
      "Epoch 18000/30000, Loss: 160.6771, WAPE: 0.0826, MSE: 0.5651, reg: 21.6079\n",
      "Epoch 18250/30000, Loss: 160.0506, WAPE: 0.0822, MSE: 0.5627, reg: 21.5958\n",
      "Epoch 18500/30000, Loss: 164.7218, WAPE: 0.0844, MSE: 0.5874, reg: 21.6064\n",
      "Epoch 18750/30000, Loss: 163.4982, WAPE: 0.0842, MSE: 0.5768, reg: 21.6512\n",
      "Epoch 19000/30000, Loss: 161.2093, WAPE: 0.0829, MSE: 0.5675, reg: 21.5825\n",
      "Epoch 19250/30000, Loss: 161.8442, WAPE: 0.0832, MSE: 0.5699, reg: 21.6552\n",
      "Epoch 19500/30000, Loss: 160.7526, WAPE: 0.0825, MSE: 0.5665, reg: 21.5941\n",
      "Epoch 19750/30000, Loss: 159.8743, WAPE: 0.0822, MSE: 0.5623, reg: 21.4559\n",
      "Epoch 20000/30000, Loss: 168.3998, WAPE: 0.0858, MSE: 0.6117, reg: 21.4679\n",
      "Epoch 20250/30000, Loss: 159.5885, WAPE: 0.0819, MSE: 0.5613, reg: 21.5467\n",
      "Epoch 20500/30000, Loss: 159.9787, WAPE: 0.0823, MSE: 0.5627, reg: 21.4479\n",
      "Epoch 20750/30000, Loss: 159.8460, WAPE: 0.0820, MSE: 0.5636, reg: 21.5285\n",
      "Epoch 21000/30000, Loss: 160.6827, WAPE: 0.0826, MSE: 0.5664, reg: 21.4854\n",
      "Epoch 21250/30000, Loss: 172.4444, WAPE: 0.0874, MSE: 0.6360, reg: 21.4409\n",
      "Epoch 21500/30000, Loss: 161.1078, WAPE: 0.0828, MSE: 0.5674, reg: 21.5531\n",
      "Epoch 21750/30000, Loss: 164.2489, WAPE: 0.0845, MSE: 0.5818, reg: 21.5896\n",
      "Epoch 22000/30000, Loss: 163.0431, WAPE: 0.0837, MSE: 0.5773, reg: 21.6556\n",
      "Epoch 22250/30000, Loss: 165.5607, WAPE: 0.0847, MSE: 0.5928, reg: 21.6236\n",
      "Epoch 22500/30000, Loss: 166.0019, WAPE: 0.0849, MSE: 0.5950, reg: 21.5772\n",
      "Epoch 22750/30000, Loss: 159.7759, WAPE: 0.0820, MSE: 0.5609, reg: 21.6638\n",
      "Epoch 23000/30000, Loss: 166.5311, WAPE: 0.0858, MSE: 0.5898, reg: 21.7839\n",
      "Epoch 23250/30000, Loss: 159.6763, WAPE: 0.0820, MSE: 0.5614, reg: 21.4918\n",
      "Epoch 23500/30000, Loss: 159.9074, WAPE: 0.0821, MSE: 0.5621, reg: 21.6118\n",
      "Epoch 23750/30000, Loss: 162.4908, WAPE: 0.0834, MSE: 0.5746, reg: 21.6242\n",
      "Epoch 24000/30000, Loss: 163.3332, WAPE: 0.0840, MSE: 0.5763, reg: 21.7178\n",
      "Epoch 24250/30000, Loss: 159.9149, WAPE: 0.0821, MSE: 0.5617, reg: 21.6564\n",
      "Epoch 24500/30000, Loss: 161.9762, WAPE: 0.0834, MSE: 0.5706, reg: 21.4984\n",
      "Epoch 24750/30000, Loss: 160.6453, WAPE: 0.0826, MSE: 0.5651, reg: 21.5878\n",
      "Epoch 25000/30000, Loss: 159.4357, WAPE: 0.0818, MSE: 0.5611, reg: 21.5680\n",
      "Epoch 25250/30000, Loss: 163.1930, WAPE: 0.0837, MSE: 0.5779, reg: 21.6928\n",
      "Epoch 25500/30000, Loss: 160.2265, WAPE: 0.0821, MSE: 0.5640, reg: 21.7212\n",
      "Epoch 25750/30000, Loss: 160.7248, WAPE: 0.0826, MSE: 0.5653, reg: 21.5909\n",
      "Epoch 26000/30000, Loss: 161.8894, WAPE: 0.0833, MSE: 0.5704, reg: 21.5864\n",
      "Epoch 26250/30000, Loss: 162.9762, WAPE: 0.0836, MSE: 0.5773, reg: 21.6934\n",
      "Epoch 26500/30000, Loss: 161.3384, WAPE: 0.0828, MSE: 0.5698, reg: 21.5708\n",
      "Epoch 26750/30000, Loss: 161.0378, WAPE: 0.0825, MSE: 0.5671, reg: 21.7995\n",
      "Epoch 27000/30000, Loss: 161.7870, WAPE: 0.0830, MSE: 0.5717, reg: 21.6432\n",
      "Epoch 27250/30000, Loss: 161.7967, WAPE: 0.0830, MSE: 0.5709, reg: 21.7184\n",
      "Epoch 27500/30000, Loss: 160.4185, WAPE: 0.0823, MSE: 0.5651, reg: 21.5875\n",
      "Epoch 27750/30000, Loss: 165.9146, WAPE: 0.0855, MSE: 0.5892, reg: 21.4759\n",
      "Epoch 28000/30000, Loss: 163.6211, WAPE: 0.0843, MSE: 0.5778, reg: 21.5912\n",
      "Epoch 28250/30000, Loss: 159.5986, WAPE: 0.0819, MSE: 0.5611, reg: 21.6123\n",
      "Epoch 28500/30000, Loss: 167.0333, WAPE: 0.0854, MSE: 0.6019, reg: 21.4801\n",
      "Epoch 28750/30000, Loss: 159.6579, WAPE: 0.0819, MSE: 0.5604, reg: 21.6835\n",
      "Epoch 29000/30000, Loss: 160.6883, WAPE: 0.0825, MSE: 0.5662, reg: 21.5843\n",
      "Epoch 29250/30000, Loss: 162.1367, WAPE: 0.0834, MSE: 0.5707, reg: 21.6715\n",
      "Epoch 29500/30000, Loss: 159.7679, WAPE: 0.0821, MSE: 0.5623, reg: 21.4459\n",
      "Epoch 29750/30000, Loss: 161.5973, WAPE: 0.0829, MSE: 0.5706, reg: 21.6240\n",
      "Epoch 30000/30000, Loss: 161.4710, WAPE: 0.0831, MSE: 0.5680, reg: 21.5722\n"
     ]
    }
   ],
   "source": [
    "# train model\n",
    "num_epochs = 30000\n",
    "for epoch in range(num_epochs):\n",
    "    _, current_loss, current_wape, current_mse, current_reg = sess.run([train, loss, wape, mse, reg], feed_dict1)\n",
    "    if (epoch + 1) % 250 == 0:\n",
    "        print(f\"Epoch {epoch + 1}/{num_epochs}, Loss: {current_loss:.4f}, WAPE: {current_wape:.4f}, MSE: {current_mse:.4f}, reg: {current_reg:.4f}\")\n",
    "\n",
    "\n",
    "#         # Training loop\n",
    "# num_epochs = 500\n",
    "# for epoch in range(num_epochs):\n",
    "#     _, current_error, cuurent_mse, current_m1, current_m2, current_c = sess.run([train_op, error, mse_error, m1, m2, c])\n",
    "#     if (epoch + 1) % 25 == 0:\n",
    "#         print(f\"Epoch {epoch + 1}/{num_epochs}, Error: {current_error:.4f}, MSE: {cuurent_mse:.4f}, m1: {current_m1}, m2: {current_m2}, c: {current_c}\")\n",
    "\n",
    "# # Print the final results for 'm' and 'c'\n",
    "# final_m1, final_m2, final_c = sess.run([m1, m2, c])\n",
    "# print(f\"Final 'm1' value: {final_m1}\")\n",
    "\n",
    "# print(f\"Final 'm2' value: {final_m2}\")\n",
    "# print(f\"Final 'c' value: {final_c}\")"
   ]
  },
  {
   "cell_type": "code",
   "execution_count": 126,
   "metadata": {},
   "outputs": [
    {
     "data": {
      "text/plain": [
       "0.08797747328630161"
      ]
     },
     "execution_count": 126,
     "metadata": {},
     "output_type": "execute_result"
    }
   ],
   "source": [
    "np.absolute(sess.run(y, feed_dict1)-sess.run(y_pred, feed_dict1)).sum()/sess.run(y, feed_dict1).sum()"
   ]
  },
  {
   "cell_type": "code",
   "execution_count": 127,
   "metadata": {},
   "outputs": [
    {
     "data": {
      "text/plain": [
       "0.26187125074172957"
      ]
     },
     "execution_count": 127,
     "metadata": {},
     "output_type": "execute_result"
    }
   ],
   "source": [
    "np.absolute(sess.run(y, feed_dict2)-sess.run(y_pred, feed_dict2)).sum()/sess.run(y, feed_dict2).sum()"
   ]
  },
  {
   "cell_type": "code",
   "execution_count": 128,
   "metadata": {},
   "outputs": [
    {
     "data": {
      "text/plain": [
       "0.7897377733268196"
      ]
     },
     "execution_count": 128,
     "metadata": {},
     "output_type": "execute_result"
    }
   ],
   "source": [
    "r2_score(sess.run(y, feed_dict1), sess.run(y_pred, feed_dict1))"
   ]
  },
  {
   "cell_type": "code",
   "execution_count": 120,
   "metadata": {},
   "outputs": [
    {
     "data": {
      "text/plain": [
       "<AxesSubplot: >"
      ]
     },
     "execution_count": 120,
     "metadata": {},
     "output_type": "execute_result"
    },
    {
     "data": {
      "image/png": "[encoded data removed]",
      "text/plain": [
       "<Figure size 640x480 with 1 Axes>"
      ]
     },
     "metadata": {},
     "output_type": "display_data"
    }
   ],
   "source": [
    "pd.DataFrame({\"y\":sess.run(y, feed_dict1), \"y_pred\" : sess.run(y_pred, feed_dict1)}).plot()"
   ]
  },
  {
   "cell_type": "code",
   "execution_count": 46,
   "metadata": {},
   "outputs": [
    {
     "data": {
      "text/plain": [
       "[0.5658123127221157,\n",
       " 0.012648105272455436,\n",
       " 0.012648105272455436,\n",
       " array([[ 0.05793168,  0.41117514, -1.28255388,  3.62075937,  2.36638921,\n",
       "          0.61491021, -3.07556298]]),\n",
       " array([[5.03275515e-01, 1.56839525e-10]])]"
      ]
     },
     "execution_count": 46,
     "metadata": {},
     "output_type": "execute_result"
    }
   ],
   "source": [
    "sess.run(variable_list, feed_dict)"
   ]
  },
  {
   "cell_type": "code",
   "execution_count": 47,
   "metadata": {},
   "outputs": [],
   "source": [
    "# pd.DataFrame(sess.run([base1, base2-base1, tf.multiply(base2, mixed_effect_impact)-base2, tf.reduce_sum(discount_impact, axis=1)])).T.plot()"
   ]
  },
  {
   "cell_type": "code",
   "execution_count": null,
   "metadata": {},
   "outputs": [],
   "source": [
    "# # Import the necessary libraries\n",
    "# import numpy as np\n",
    "# from sklearn.linear_model import LinearRegression\n",
    "# from sklearn.model_selection import train_test_split\n",
    "# from sklearn.metrics import mean_squared_error, r2_score\n",
    "# from sklearn.preprocessing import MinMaxScaler\n",
    "\n",
    "# # Generate or load your dataset\n",
    "# X, y = df.iloc[:-2, 2:], df.iloc[:-2, 1]\n",
    "\n",
    "# # Split the dataset into training and testing sets\n",
    "# X_train, X_test, y_train, y_test = train_test_split(X, y, test_size=0.2, random_state=42)\n",
    "\n",
    "# # Create a MinMaxScaler and fit it to the training data\n",
    "# scaler = MinMaxScaler()\n",
    "# X_train_scaled = scaler.fit_transform(X_train)\n",
    "# X_test_scaled = scaler.transform(X_test)\n",
    "\n",
    "# # Create a linear regression model\n",
    "# model = LinearRegression()\n",
    "\n",
    "# # Fit the model to the scaled training data\n",
    "# model.fit(X_train_scaled, y_train)\n",
    "\n",
    "# # Make predictions on the scaled test data\n",
    "# y_pred = model.predict(X_test_scaled)\n",
    "\n",
    "# # Calculate and print performance metrics\n",
    "# mse = mean_squared_error(y_test, y_pred)\n",
    "# r2 = r2_score(y_test, y_pred)\n",
    "\n",
    "# print(\"Mean Squared Error:\", mse)\n",
    "# print(\"R-squared:\", r2)\n",
    "\n",
    "# # Optionally, you can also access the model's coefficients and intercept\n",
    "# coefficients = model.coef_\n",
    "# intercept = model.intercept_\n",
    "\n",
    "# print(\"Coefficients:\", coefficients)\n",
    "# print(\"Intercept:\", intercept)\n"
   ]
  }
 ],
 "metadata": {
  "kernelspec": {
   "display_name": "base",
   "language": "python",
   "name": "python3"
  },
  "language_info": {
   "codemirror_mode": {
    "name": "ipython",
    "version": 3
   },
   "file_extension": ".py",
   "mimetype": "text/x-python",
   "name": "python",
   "nbconvert_exporter": "python",
   "pygments_lexer": "ipython3",
   "version": "3.10.11"
  },
  "orig_nbformat": 4
 },
 "nbformat": 4,
 "nbformat_minor": 2
}
